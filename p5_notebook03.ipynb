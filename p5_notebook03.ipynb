{
 "cells": [
  {
   "cell_type": "markdown",
   "metadata": {},
   "source": [
    "# Étude de marché: entreprise IAA souhaitant exporter du poulet\n",
    "\n",
    "*Etude data - Projet 5 - Nalron (novembre 2019) / ENSAE-ENSAI Formation Continue*\n",
    "\n",
    "*Data source* [FAO](http://www.fao.org/faostat/fr/#data)\\\n",
    "*Industrie Agroalimentaire (en abrégé IAA)* "
   ]
  },
  {
   "cell_type": "markdown",
   "metadata": {},
   "source": [
    "---"
   ]
  },
  {
   "cell_type": "markdown",
   "metadata": {},
   "source": [
    "### Hypothèses de sélection des pays"
   ]
  },
  {
   "cell_type": "markdown",
   "metadata": {},
   "source": [
    "*Ces hypothèses tiennent compte des corrélations entre nos variables*, comme nous avons pu le voir dans le cercle des corrélations. Pour rappel, il se dégage deux tendances qui est celle du *régime alimentaire*, et celle du *business de l'import et de l'élevage de poulets*.\n",
    "\n",
    "- **H0 : Les pays cibles ont un régime alimentaire riche en protéines animales.**\n",
    "- **H1 : Les pays cibles ont un régime alimentaire pauvre en protéines animales.**\n",
    "- **H2 : Les pays cibles enregistrent un PIB/habitant potentiellement prometteur.**\n",
    "- **H3 : Les pays cibles pratiquant l'import de poulets avec peu d'élevage.**\n"
   ]
  },
  {
   "cell_type": "markdown",
   "metadata": {},
   "source": [
    "**Solutions possibles en réponse à nos hypothèses de recherche**\n",
    "- L'hypothèse nulle n'est pas rejetée pour les pays membres des clusters 2 et 3.\n",
    "- L'hypothèse nulle n'est pas rejetée en faveur de l'hypothèse alternative H1 pour les clusters 0 et 1.\n",
    "- L'hypothèse H2 n'est pas rejetée pour le cluster 2 et 3.\n",
    "- L'hypothèse H3 n'est pas rejetée pour le cluster 2."
   ]
  },
  {
   "cell_type": "markdown",
   "metadata": {},
   "source": [
    "### En conclusion, mes recommandations de pays à clibler :"
   ]
  },
  {
   "cell_type": "markdown",
   "metadata": {},
   "source": [
    "**Première solution, un développement \"plus rapide\" tourné vers l'UE avec des pays à fort potientiel :**\n",
    "\n",
    "A partir des hypothèses proposées, et à partir de leur représentation dans l'inertie totale, dans un premier temps les pays cibles seraient : **Pays-Bas, Belgique, Luxembourg, Pologne, Norvège, Allemagne, Autriche**. \n",
    "\n",
    "Ces pays sont non seulement dans l'Union Européenne (facilité monétaire, logistique, etc…), et répondent à une position dominante en termes de dispo. en protéines animales, PIB/habitant, mais aussi sur la capacité d'importation de poulets vivants pour les Pays-Bas."
   ]
  },
  {
   "cell_type": "markdown",
   "metadata": {},
   "source": [
    "**Seconde solution, un développement tourné vers des pays hors UE :**\n",
    "Toujours sur la même logique, des pays comme les **États-Unis d'Amérique, Islande, Ukraine** peuvent s'avérer intéressants, mais des freins monétaires, transport, etc… sont à prévoir, la mécanique ne sera pas la même."
   ]
  },
  {
   "cell_type": "markdown",
   "metadata": {},
   "source": [
    "---"
   ]
  },
  {
   "cell_type": "markdown",
   "metadata": {},
   "source": [
    "### Nos groupes sont-ils réellement distincts? "
   ]
  },
  {
   "cell_type": "markdown",
   "metadata": {},
   "source": [
    "**Test d'adéquation de Kolmogorov-Smirnov :**"
   ]
  },
  {
   "cell_type": "markdown",
   "metadata": {},
   "source": [
    "On peut tester l’adéquation de la 'Disponibilité alimentaire (Kcal/personne/jour)' à une loi normale à l’aide de *Kolmogorov-Smirnov*. Le test sera doublé par celui de *Shapiro-Wilk*."
   ]
  },
  {
   "cell_type": "code",
   "execution_count": 127,
   "metadata": {},
   "outputs": [
    {
     "name": "stdout",
     "output_type": "stream",
     "text": [
      "Statistics=0.062, p=0.980\n",
      "On ne peut pas rejeter H0 pour des niveaux de test de 5%\n"
     ]
    }
   ],
   "source": [
    "from scipy.stats import ks_2samp\n",
    "\n",
    "stat, p = ks_2samp(df_subset['Disponibilité alimentaire (Kcal/personne/jour)'],\n",
    "          list(np.random.normal(np.mean(df_subset['Disponibilité alimentaire (Kcal/personne/jour)']), \n",
    "          np.std(df_subset['Disponibilité alimentaire (Kcal/personne/jour)']), 1000)))\n",
    "print('Statistics=%.3f, p=%.3f' % (stat, p))\n",
    "\n",
    "#Interprétation\n",
    "alpha = 0.05\n",
    "if p > alpha:\n",
    "    print('On ne peut pas rejeter H0 pour des niveaux de test de 5%')\n",
    "else:\n",
    "    print('H0 est rejetée à un niveau de test de 5%')"
   ]
  },
  {
   "cell_type": "markdown",
   "metadata": {},
   "source": [
    "-> Le test de la variable 'Disponibilité de alimentaire exprimée en Kcal' répond positivement à une loi normale. "
   ]
  },
  {
   "cell_type": "markdown",
   "metadata": {},
   "source": [
    "**Test d'adéquation de Shapiro-Wilk :**\n",
    "\n",
    "*Recommandé pour tester la normalité dans le cas de petits échantillons."
   ]
  },
  {
   "cell_type": "code",
   "execution_count": 128,
   "metadata": {},
   "outputs": [
    {
     "name": "stdout",
     "output_type": "stream",
     "text": [
      "Statistics=0.981, p=0.529\n",
      "On ne peut pas rejeter H0 pour des niveaux de test de 5%\n"
     ]
    }
   ],
   "source": [
    "from scipy.stats import shapiro\n",
    "\n",
    "stat, p = shapiro(df_subset['Disponibilité alimentaire (Kcal/personne/jour)'])\n",
    "\n",
    "print('Statistics=%.3f, p=%.3f' % (stat, p))\n",
    "\n",
    "#Interprétation\n",
    "alpha = 0.05\n",
    "if p > alpha:\n",
    "    print('On ne peut pas rejeter H0 pour des niveaux de test de 5%')\n",
    "else:\n",
    "    print('H0 est rejetée pour des niveaux de test de 5%')"
   ]
  },
  {
   "cell_type": "markdown",
   "metadata": {},
   "source": [
    "-> Le Test de Shapiro-Wilk est plus précis que celui de Kolmogorov-Smirnov, et également plus adapté dans notre cas de petit échantillonnage. La variable 'Disponibilité de alimentaire exprimée en Kcal' suit une loi normale."
   ]
  },
  {
   "cell_type": "markdown",
   "metadata": {},
   "source": [
    "**Test de comparaison de deux clusters dans le cas gaussien.**\n",
    "\n",
    "**La variable 'Disponibilité alimentaire (Kcal/personne/jour)' suit une loi normale et sera par conséquent choisie pour le test.**"
   ]
  },
  {
   "cell_type": "code",
   "execution_count": 131,
   "metadata": {},
   "outputs": [],
   "source": [
    "cluster_test1 = df_cls4[df_cls4['cluster'] == 1]['Disponibilité alimentaire (Kcal/personne/jour)']\n",
    "cluster_test2 = df_cls4[df_cls4['cluster'] == 0]['Disponibilité alimentaire (Kcal/personne/jour)']"
   ]
  },
  {
   "cell_type": "code",
   "execution_count": 132,
   "metadata": {},
   "outputs": [
    {
     "name": "stdout",
     "output_type": "stream",
     "text": [
      "Statistics=0.186, p=0.667\n",
      "On ne rejette donc pas H0, l’égalité des variances au niveau de test 5%\n"
     ]
    }
   ],
   "source": [
    "#On teste tout d’abord l’égalité des variances à l’aide de la commande\n",
    "from scipy.stats import bartlett\n",
    "stat, p = bartlett(cluster_test1, cluster_test2)\n",
    "print('Statistics=%.3f, p=%.3f' % (stat, p))\n",
    "\n",
    "#Interprétation\n",
    "alpha = 0.05\n",
    "if p > alpha:\n",
    "    print('On ne rejette donc pas H0, l’égalité des variances au niveau de test 5%')\n",
    "else:\n",
    "    print('H0 est rejetée au niveau de test 5%')"
   ]
  },
  {
   "cell_type": "code",
   "execution_count": 133,
   "metadata": {},
   "outputs": [
    {
     "name": "stdout",
     "output_type": "stream",
     "text": [
      "Statistics=-6.127, p=0.000000139\n",
      "H0 l'hypothèse d’égalité des moyennes est rejetée au niveau de test 5%\n"
     ]
    }
   ],
   "source": [
    "#On teste ensuite l’égalité des moyennes à l’aide de la commande\n",
    "from scipy.stats import ttest_ind\n",
    "stat, p = ttest_ind(cluster_test1, cluster_test2, equal_var=True)\n",
    "print('Statistics=%.3f, p=%.9f' % (stat, p))\n",
    "\n",
    "#Interprétation\n",
    "alpha = 0.05\n",
    "if p > alpha:\n",
    "    print('On ne rejette donc pas H0, l’égalité des moyennes de nos 2 clusters au niveau de test 5%')\n",
    "else:\n",
    "    print('H0 l\\'hypothèse d’égalité des moyennes est rejetée au niveau de test 5%')"
   ]
  },
  {
   "cell_type": "markdown",
   "metadata": {},
   "source": [
    "-> On rejette que nos deux clusters suivent la même distribution, on a en effet rejeté l’hypothèse d’égalité des moyennes."
   ]
  },
  {
   "cell_type": "markdown",
   "metadata": {},
   "source": [
    "**Les tests statistiques réalisés permettent de vérifier que nos clusters ne suivent pas la même distribution, en effet l'hypothèse d'égalité des moyennes a été rejetée dans le cadre du test précédent. Les clusters identifiés sont distincts.**"
   ]
  }
 ],
 "metadata": {
  "kernelspec": {
   "display_name": "Python 3",
   "language": "python",
   "name": "python3"
  },
  "language_info": {
   "codemirror_mode": {
    "name": "ipython",
    "version": 3
   },
   "file_extension": ".py",
   "mimetype": "text/x-python",
   "name": "python",
   "nbconvert_exporter": "python",
   "pygments_lexer": "ipython3",
   "version": "3.7.5"
  }
 },
 "nbformat": 4,
 "nbformat_minor": 2
}
